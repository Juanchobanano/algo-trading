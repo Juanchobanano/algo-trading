{
 "cells": [
  {
   "cell_type": "markdown",
   "metadata": {},
   "source": [
    "# Account Information"
   ]
  },
  {
   "cell_type": "markdown",
   "metadata": {},
   "source": [
    "Documentation: https://oanda-api-v20.readthedocs.io/en/latest/index.html"
   ]
  },
  {
   "cell_type": "code",
   "execution_count": 185,
   "metadata": {
    "collapsed": true
   },
   "outputs": [],
   "source": [
    "# Import Oanda API.\n",
    "import oandapyV20\n",
    "\n",
    "import oandapyV20.endpoints.accounts as accounts\n",
    "import oandapyV20.endpoints.forexlabs as labs\n",
    "import oandapyV20.endpoints.orders as orders\n",
    "from oandapyV20.exceptions import V20Error\n",
    "\n",
    "import pandas as pd\n",
    "import configparser\n",
    "import numpy as np\n",
    "import datetime as date\n",
    "import csv\n",
    "\n",
    "import json\n",
    "\n",
    "import matplotlib.pyplot as plt\n",
    "%matplotlib inline"
   ]
  },
  {
   "cell_type": "code",
   "execution_count": 186,
   "metadata": {
    "collapsed": true
   },
   "outputs": [],
   "source": [
    "# Generate template vars.\n",
    "template_vars = {}\n",
    "template_vars[\"title\"] = \"Account Report\""
   ]
  },
  {
   "cell_type": "code",
   "execution_count": 187,
   "metadata": {
    "scrolled": true
   },
   "outputs": [
    {
     "data": {
      "text/plain": [
       "['./oanda.cfg']"
      ]
     },
     "execution_count": 187,
     "metadata": {},
     "output_type": "execute_result"
    }
   ],
   "source": [
    "# Read config file.\n",
    "config = configparser.ConfigParser()\n",
    "config.read(\"./oanda.cfg\")"
   ]
  },
  {
   "cell_type": "code",
   "execution_count": 188,
   "metadata": {
    "collapsed": true
   },
   "outputs": [],
   "source": [
    "# AccountID & Token.\n",
    "accountID = config[\"oanda\"][\"account_id\"]\n",
    "token = config[\"oanda\"][\"access_token\"]\n",
    "client = oandapyV20.API(access_token = token)"
   ]
  },
  {
   "cell_type": "code",
   "execution_count": 189,
   "metadata": {
    "collapsed": true
   },
   "outputs": [],
   "source": [
    "# Oanda class implementation.\n",
    "class oandaAccount():\n",
    "    \n",
    "    # Init object\n",
    "    def __init__(self, accountID):\n",
    "        accountID = accountID\n",
    "    \n",
    "    # Get the list of tradable instruments for the given Account. \n",
    "    def getInstruments(self):\n",
    "        r = accounts.AccountInstruments(accountID=accountID)\n",
    "        rv = client.request(r)\n",
    "        return r.response\n",
    "        \n",
    "    # Get the full details for a single Account that a client has access to. \n",
    "    # Full pending Order, open Trade and open Position representations are provided.\n",
    "    def getDetails(self):\n",
    "        r = accounts.AccountDetails(accountID)\n",
    "        client.request(r)\n",
    "        return r.response\n",
    "        \n",
    "    # Get a summary for a single Account that a client has access to.\n",
    "    def getSummary(self):\n",
    "        r = accounts.AccountSummary(accountID)\n",
    "        client.request(r)\n",
    "        return r.response\n",
    "        \n",
    "    # Get a list of all Accounts authorized for the provided token.\n",
    "    def getList(self):\n",
    "        r = accounts.AccountList()\n",
    "        client.request(r)\n",
    "        return r.response\n",
    "        \n",
    "        \n",
    "    # Endpoint used to poll an Account for its current state and changes since a specified TransactionID.\n",
    "    def getChanges(self, params):\n",
    "        r = accounts.AccountChanges(accountID, params = params)\n",
    "        client.request(r)\n",
    "        return r.response"
   ]
  },
  {
   "cell_type": "code",
   "execution_count": 190,
   "metadata": {
    "collapsed": true
   },
   "outputs": [],
   "source": [
    "# Create object.\n",
    "account = oandaAccount(accountID)"
   ]
  },
  {
   "cell_type": "code",
   "execution_count": 191,
   "metadata": {
    "collapsed": true,
    "scrolled": true
   },
   "outputs": [],
   "source": [
    "# Get summary and details of the account.\n",
    "summary = account.getSummary()\n",
    "details = account.getDetails()[\"account\"]\n",
    "accounts_authorized = account.getList()[\"accounts\"]"
   ]
  },
  {
   "cell_type": "code",
   "execution_count": 192,
   "metadata": {
    "collapsed": true
   },
   "outputs": [],
   "source": [
    "# Set vars.\n",
    "list_key_value = [ [k,v] for k, v in summary[\"account\"].items() ]\n",
    "for l in list_key_value:\n",
    "    key = l[0]\n",
    "    template_vars[key] = l[1]"
   ]
  },
  {
   "cell_type": "code",
   "execution_count": 193,
   "metadata": {},
   "outputs": [
    {
     "name": "stdout",
     "output_type": "stream",
     "text": [
      "Accounts Authorized:\n",
      "101-011-11481115-001 []\n"
     ]
    }
   ],
   "source": [
    "# Get accounts authorized.\n",
    "total_accounts_authorized = len(accounts_authorized)\n",
    "for acc in accounts_authorized:\n",
    "    print(\"Accounts Authorized:\")\n",
    "    print(acc[\"id\"], acc[\"tags\"])"
   ]
  },
  {
   "cell_type": "markdown",
   "metadata": {},
   "source": [
    "# Account Information."
   ]
  },
  {
   "cell_type": "code",
   "execution_count": 194,
   "metadata": {},
   "outputs": [
    {
     "data": {
      "text/plain": [
       "{'NAV': '101197.9728',\n",
       " 'alias': 'Primary',\n",
       " 'balance': '101197.9728',\n",
       " 'commission': '0.0000',\n",
       " 'createdByUserID': 11481115,\n",
       " 'createdTime': '2019-06-17T01:32:06.080186841Z',\n",
       " 'currency': 'USD',\n",
       " 'dividend': '0',\n",
       " 'financing': '-550.8586',\n",
       " 'guaranteedExecutionFees': '0.0000',\n",
       " 'guaranteedStopLossOrderMode': 'DISABLED',\n",
       " 'hedgingEnabled': False,\n",
       " 'id': '101-011-11481115-001',\n",
       " 'lastTransactionID': '127',\n",
       " 'marginAvailable': '101197.9728',\n",
       " 'marginCallMarginUsed': '0.0000',\n",
       " 'marginCallPercent': '0.00000',\n",
       " 'marginCloseoutMarginUsed': '0.0000',\n",
       " 'marginCloseoutNAV': '101197.9728',\n",
       " 'marginCloseoutPercent': '0.00000',\n",
       " 'marginCloseoutPositionValue': '0.0000',\n",
       " 'marginCloseoutUnrealizedPL': '0.0000',\n",
       " 'marginRate': '0.02',\n",
       " 'marginUsed': '0.0000',\n",
       " 'openPositionCount': 0,\n",
       " 'openTradeCount': 0,\n",
       " 'pendingOrderCount': 0,\n",
       " 'pl': '1748.8314',\n",
       " 'positionValue': '0.0000',\n",
       " 'resettablePL': '1748.8314',\n",
       " 'resettablePLTime': '0',\n",
       " 'title': 'Account Report',\n",
       " 'unrealizedPL': '0.0000',\n",
       " 'withdrawalLimit': '101197.9728'}"
      ]
     },
     "execution_count": 194,
     "metadata": {},
     "output_type": "execute_result"
    }
   ],
   "source": [
    "template_vars"
   ]
  },
  {
   "cell_type": "markdown",
   "metadata": {},
   "source": [
    "# Orders."
   ]
  },
  {
   "cell_type": "code",
   "execution_count": 195,
   "metadata": {
    "collapsed": true
   },
   "outputs": [],
   "source": [
    "# Get Orders.\n",
    "total_orders = len(details[\"orders\"])\n",
    "for i in range(total_orders):\n",
    "    print(details[\"orders\"][i])\n",
    "    print(\"\")"
   ]
  },
  {
   "cell_type": "markdown",
   "metadata": {},
   "source": [
    "# Positions."
   ]
  },
  {
   "cell_type": "code",
   "execution_count": 196,
   "metadata": {
    "scrolled": false
   },
   "outputs": [
    {
     "name": "stdout",
     "output_type": "stream",
     "text": [
      "{'instrument': 'EUR_USD', 'long': {'units': '0', 'pl': '2700.6680', 'resettablePL': '2700.6680', 'financing': '-551.7218', 'dividend': '0.0000', 'guaranteedExecutionFees': '0.0000', 'unrealizedPL': '0.0000'}, 'short': {'units': '0', 'pl': '0.0000', 'resettablePL': '0.0000', 'financing': '0.0000', 'dividend': '0.0000', 'guaranteedExecutionFees': '0.0000', 'unrealizedPL': '0.0000'}, 'pl': '2700.6680', 'resettablePL': '2700.6680', 'financing': '-551.7218', 'commission': '0.0000', 'dividend': '0.0000', 'guaranteedExecutionFees': '0.0000', 'unrealizedPL': '0.0000', 'marginUsed': '0.0000'}\n",
      "\n",
      "{'instrument': 'USD_CAD', 'long': {'units': '0', 'pl': '-951.8366', 'resettablePL': '-951.8366', 'financing': '0.8632', 'dividend': '0.0000', 'guaranteedExecutionFees': '0.0000', 'unrealizedPL': '0.0000'}, 'short': {'units': '0', 'pl': '0.0000', 'resettablePL': '0.0000', 'financing': '0.0000', 'dividend': '0.0000', 'guaranteedExecutionFees': '0.0000', 'unrealizedPL': '0.0000'}, 'pl': '-951.8366', 'resettablePL': '-951.8366', 'financing': '0.8632', 'commission': '0.0000', 'dividend': '0.0000', 'guaranteedExecutionFees': '0.0000', 'unrealizedPL': '0.0000', 'marginUsed': '0.0000'}\n",
      "\n"
     ]
    }
   ],
   "source": [
    "# Get Positions.\n",
    "total_positions = len(details[\"positions\"])\n",
    "for i in range(total_positions):\n",
    "    print(details[\"positions\"][i])\n",
    "    print(\"\")"
   ]
  },
  {
   "cell_type": "markdown",
   "metadata": {},
   "source": [
    "# Trades."
   ]
  },
  {
   "cell_type": "code",
   "execution_count": 197,
   "metadata": {
    "collapsed": true
   },
   "outputs": [],
   "source": [
    "# Get trades.\n",
    "total_trades = len(details[\"trades\"])\n",
    "for i in range(total_trades):\n",
    "    print(details[\"trades\"][i])\n",
    "    print(\"\")"
   ]
  }
 ],
 "metadata": {
  "kernelspec": {
   "display_name": "Python 3",
   "language": "python",
   "name": "python3"
  },
  "language_info": {
   "codemirror_mode": {
    "name": "ipython",
    "version": 3
   },
   "file_extension": ".py",
   "mimetype": "text/x-python",
   "name": "python",
   "nbconvert_exporter": "python",
   "pygments_lexer": "ipython3",
   "version": "3.6.3"
  }
 },
 "nbformat": 4,
 "nbformat_minor": 2
}
