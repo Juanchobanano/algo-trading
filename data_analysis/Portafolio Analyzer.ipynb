{
 "cells": [
  {
   "cell_type": "code",
   "execution_count": 2,
   "metadata": {
    "collapsed": true
   },
   "outputs": [],
   "source": [
    "# ---- PORTAFOLIO ANALYZER -----\n",
    "\n",
    "# Para realizar un análisis adecuado, es necesario recuperar el balance diario generado por estrategia.\n",
    "# Para lograr lo anterior, se debe agregar nuevas funcionalidades a las comunicaciones enviadas por MQL5.\n",
    "# Enviar de manera diaria el balance de la cuenta junto a los volúmenes.\n",
    "# Cada estrategia debe verse como un activo financiero.\n",
    "# En la versión actual, los cálculos se realizan con la información de los trades. \n",
    "# En futuras versiones se incorporará lo mencionado anteriormente."
   ]
  },
  {
   "cell_type": "code",
   "execution_count": 3,
   "metadata": {
    "collapsed": true
   },
   "outputs": [],
   "source": [
    "# Import libraries.\n",
    "import pandas as pd\n",
    "import matplotlib.pyplot as plt\n",
    "%matplotlib inline"
   ]
  },
  {
   "cell_type": "code",
   "execution_count": 4,
   "metadata": {
    "collapsed": true
   },
   "outputs": [],
   "source": [
    "# Import portafolio.\n",
    "expert1 = pd.read_csv(\"dataset/expert_4321_data.csv\")\n",
    "expert2 = pd.read_csv(\"dataset/expert_4376_data.csv\")\n",
    "expert3 = pd.read_csv(\"dataset/expert_5874_data.csv\")"
   ]
  },
  {
   "cell_type": "code",
   "execution_count": 5,
   "metadata": {
    "collapsed": true
   },
   "outputs": [],
   "source": [
    "get_balance = lambda data: data[data.direction == \"out\"][\"balance\"].to_frame()\n",
    "exp1 = get_balance(expert1)\n",
    "exp2 = get_balance(expert2)\n",
    "exp3 = get_balance(expert3)\n",
    "\n",
    "for expert in (exp1, exp2, exp3):\n",
    "    expert.columns = [\"Daily Balance\"]\n",
    "    expert[\"Normed Return\"] = expert[\"Daily Balance\"] / expert.iloc[0][\"Daily Balance\"]"
   ]
  },
  {
   "cell_type": "code",
   "execution_count": 6,
   "metadata": {},
   "outputs": [
    {
     "data": {
      "text/html": [
       "<div>\n",
       "<style scoped>\n",
       "    .dataframe tbody tr th:only-of-type {\n",
       "        vertical-align: middle;\n",
       "    }\n",
       "\n",
       "    .dataframe tbody tr th {\n",
       "        vertical-align: top;\n",
       "    }\n",
       "\n",
       "    .dataframe thead th {\n",
       "        text-align: right;\n",
       "    }\n",
       "</style>\n",
       "<table border=\"1\" class=\"dataframe\">\n",
       "  <thead>\n",
       "    <tr style=\"text-align: right;\">\n",
       "      <th></th>\n",
       "      <th>Daily Balance</th>\n",
       "      <th>Normed Return</th>\n",
       "    </tr>\n",
       "  </thead>\n",
       "  <tbody>\n",
       "    <tr>\n",
       "      <th>1</th>\n",
       "      <td>4913.16</td>\n",
       "      <td>1.000000</td>\n",
       "    </tr>\n",
       "    <tr>\n",
       "      <th>3</th>\n",
       "      <td>4629.66</td>\n",
       "      <td>0.942298</td>\n",
       "    </tr>\n",
       "    <tr>\n",
       "      <th>5</th>\n",
       "      <td>4644.86</td>\n",
       "      <td>0.945392</td>\n",
       "    </tr>\n",
       "    <tr>\n",
       "      <th>7</th>\n",
       "      <td>4650.46</td>\n",
       "      <td>0.946531</td>\n",
       "    </tr>\n",
       "    <tr>\n",
       "      <th>9</th>\n",
       "      <td>4664.19</td>\n",
       "      <td>0.949326</td>\n",
       "    </tr>\n",
       "  </tbody>\n",
       "</table>\n",
       "</div>"
      ],
      "text/plain": [
       "   Daily Balance  Normed Return\n",
       "1        4913.16       1.000000\n",
       "3        4629.66       0.942298\n",
       "5        4644.86       0.945392\n",
       "7        4650.46       0.946531\n",
       "9        4664.19       0.949326"
      ]
     },
     "execution_count": 6,
     "metadata": {},
     "output_type": "execute_result"
    }
   ],
   "source": [
    "exp3.head()"
   ]
  },
  {
   "cell_type": "code",
   "execution_count": 75,
   "metadata": {
    "collapsed": true
   },
   "outputs": [],
   "source": [
    "# Allocations.\n",
    "allocations = [.3,.2,.5]\n",
    "for expert, allocation in zip([exp1,exp2,exp3], allocations):\n",
    "    expert['Allocation'] = expert['Normed Return'] * allocation"
   ]
  },
  {
   "cell_type": "code",
   "execution_count": 76,
   "metadata": {},
   "outputs": [
    {
     "data": {
      "text/html": [
       "<div>\n",
       "<style scoped>\n",
       "    .dataframe tbody tr th:only-of-type {\n",
       "        vertical-align: middle;\n",
       "    }\n",
       "\n",
       "    .dataframe tbody tr th {\n",
       "        vertical-align: top;\n",
       "    }\n",
       "\n",
       "    .dataframe thead th {\n",
       "        text-align: right;\n",
       "    }\n",
       "</style>\n",
       "<table border=\"1\" class=\"dataframe\">\n",
       "  <thead>\n",
       "    <tr style=\"text-align: right;\">\n",
       "      <th></th>\n",
       "      <th>Daily Balance</th>\n",
       "      <th>Normed Return</th>\n",
       "      <th>Allocation</th>\n",
       "    </tr>\n",
       "  </thead>\n",
       "  <tbody>\n",
       "    <tr>\n",
       "      <th>145</th>\n",
       "      <td>4062.04</td>\n",
       "      <td>0.826767</td>\n",
       "      <td>0.413384</td>\n",
       "    </tr>\n",
       "    <tr>\n",
       "      <th>147</th>\n",
       "      <td>4111.24</td>\n",
       "      <td>0.836781</td>\n",
       "      <td>0.418391</td>\n",
       "    </tr>\n",
       "    <tr>\n",
       "      <th>149</th>\n",
       "      <td>4160.34</td>\n",
       "      <td>0.846775</td>\n",
       "      <td>0.423387</td>\n",
       "    </tr>\n",
       "    <tr>\n",
       "      <th>151</th>\n",
       "      <td>4135.64</td>\n",
       "      <td>0.841747</td>\n",
       "      <td>0.420874</td>\n",
       "    </tr>\n",
       "    <tr>\n",
       "      <th>153</th>\n",
       "      <td>4184.84</td>\n",
       "      <td>0.851761</td>\n",
       "      <td>0.425881</td>\n",
       "    </tr>\n",
       "  </tbody>\n",
       "</table>\n",
       "</div>"
      ],
      "text/plain": [
       "     Daily Balance  Normed Return  Allocation\n",
       "145        4062.04       0.826767    0.413384\n",
       "147        4111.24       0.836781    0.418391\n",
       "149        4160.34       0.846775    0.423387\n",
       "151        4135.64       0.841747    0.420874\n",
       "153        4184.84       0.851761    0.425881"
      ]
     },
     "execution_count": 76,
     "metadata": {},
     "output_type": "execute_result"
    }
   ],
   "source": [
    "exp3.tail()"
   ]
  },
  {
   "cell_type": "code",
   "execution_count": 84,
   "metadata": {
    "collapsed": true
   },
   "outputs": [],
   "source": [
    "# Investment.\n",
    "investment = 15000\n",
    "for expert in [exp1, exp2, exp3]:\n",
    "    expert[\"Position Values\"] = expert[\"Allocation\"] * investment"
   ]
  },
  {
   "cell_type": "code",
   "execution_count": 85,
   "metadata": {},
   "outputs": [
    {
     "data": {
      "text/html": [
       "<div>\n",
       "<style scoped>\n",
       "    .dataframe tbody tr th:only-of-type {\n",
       "        vertical-align: middle;\n",
       "    }\n",
       "\n",
       "    .dataframe tbody tr th {\n",
       "        vertical-align: top;\n",
       "    }\n",
       "\n",
       "    .dataframe thead th {\n",
       "        text-align: right;\n",
       "    }\n",
       "</style>\n",
       "<table border=\"1\" class=\"dataframe\">\n",
       "  <thead>\n",
       "    <tr style=\"text-align: right;\">\n",
       "      <th></th>\n",
       "      <th>Daily Balance</th>\n",
       "      <th>Normed Return</th>\n",
       "      <th>Allocation</th>\n",
       "      <th>Position Values</th>\n",
       "    </tr>\n",
       "  </thead>\n",
       "  <tbody>\n",
       "    <tr>\n",
       "      <th>497</th>\n",
       "      <td>5303.47</td>\n",
       "      <td>1.061611</td>\n",
       "      <td>0.212322</td>\n",
       "      <td>3184.833696</td>\n",
       "    </tr>\n",
       "    <tr>\n",
       "      <th>499</th>\n",
       "      <td>5300.82</td>\n",
       "      <td>1.061081</td>\n",
       "      <td>0.212216</td>\n",
       "      <td>3183.242321</td>\n",
       "    </tr>\n",
       "    <tr>\n",
       "      <th>501</th>\n",
       "      <td>5297.79</td>\n",
       "      <td>1.060474</td>\n",
       "      <td>0.212095</td>\n",
       "      <td>3181.422749</td>\n",
       "    </tr>\n",
       "    <tr>\n",
       "      <th>503</th>\n",
       "      <td>5295.50</td>\n",
       "      <td>1.060016</td>\n",
       "      <td>0.212003</td>\n",
       "      <td>3180.047561</td>\n",
       "    </tr>\n",
       "    <tr>\n",
       "      <th>505</th>\n",
       "      <td>5294.87</td>\n",
       "      <td>1.059890</td>\n",
       "      <td>0.211978</td>\n",
       "      <td>3179.669234</td>\n",
       "    </tr>\n",
       "  </tbody>\n",
       "</table>\n",
       "</div>"
      ],
      "text/plain": [
       "     Daily Balance  Normed Return  Allocation  Position Values\n",
       "497        5303.47       1.061611    0.212322      3184.833696\n",
       "499        5300.82       1.061081    0.212216      3183.242321\n",
       "501        5297.79       1.060474    0.212095      3181.422749\n",
       "503        5295.50       1.060016    0.212003      3180.047561\n",
       "505        5294.87       1.059890    0.211978      3179.669234"
      ]
     },
     "execution_count": 85,
     "metadata": {},
     "output_type": "execute_result"
    }
   ],
   "source": [
    "exp2.tail()"
   ]
  },
  {
   "cell_type": "code",
   "execution_count": 120,
   "metadata": {},
   "outputs": [
    {
     "data": {
      "text/html": [
       "<div>\n",
       "<style scoped>\n",
       "    .dataframe tbody tr th:only-of-type {\n",
       "        vertical-align: middle;\n",
       "    }\n",
       "\n",
       "    .dataframe tbody tr th {\n",
       "        vertical-align: top;\n",
       "    }\n",
       "\n",
       "    .dataframe thead th {\n",
       "        text-align: right;\n",
       "    }\n",
       "</style>\n",
       "<table border=\"1\" class=\"dataframe\">\n",
       "  <thead>\n",
       "    <tr style=\"text-align: right;\">\n",
       "      <th></th>\n",
       "      <th>Expert 1 Pos</th>\n",
       "      <th>Expert 2 Pos</th>\n",
       "      <th>Expert 3 Pos</th>\n",
       "    </tr>\n",
       "  </thead>\n",
       "  <tbody>\n",
       "    <tr>\n",
       "      <th>497</th>\n",
       "      <td>4542.524955</td>\n",
       "      <td>3184.833696</td>\n",
       "      <td>6492.429608</td>\n",
       "    </tr>\n",
       "    <tr>\n",
       "      <th>499</th>\n",
       "      <td>4542.524955</td>\n",
       "      <td>3183.242321</td>\n",
       "      <td>6492.429608</td>\n",
       "    </tr>\n",
       "    <tr>\n",
       "      <th>501</th>\n",
       "      <td>4542.524955</td>\n",
       "      <td>3181.422749</td>\n",
       "      <td>6492.429608</td>\n",
       "    </tr>\n",
       "    <tr>\n",
       "      <th>503</th>\n",
       "      <td>4542.524955</td>\n",
       "      <td>3180.047561</td>\n",
       "      <td>6492.429608</td>\n",
       "    </tr>\n",
       "    <tr>\n",
       "      <th>505</th>\n",
       "      <td>4542.524955</td>\n",
       "      <td>3179.669234</td>\n",
       "      <td>6492.429608</td>\n",
       "    </tr>\n",
       "  </tbody>\n",
       "</table>\n",
       "</div>"
      ],
      "text/plain": [
       "     Expert 1 Pos  Expert 2 Pos  Expert 3 Pos\n",
       "497   4542.524955   3184.833696   6492.429608\n",
       "499   4542.524955   3183.242321   6492.429608\n",
       "501   4542.524955   3181.422749   6492.429608\n",
       "503   4542.524955   3180.047561   6492.429608\n",
       "505   4542.524955   3179.669234   6492.429608"
      ]
     },
     "execution_count": 120,
     "metadata": {},
     "output_type": "execute_result"
    }
   ],
   "source": [
    "# Total Portfolio Value.\n",
    "portfolio_val = pd.concat([exp1[\"Position Values\"], exp2[\"Position Values\"], exp3[\"Position Values\"]], axis = 1)\n",
    "portfolio_val.columns = [\"Expert 1 Pos\", \"Expert 2 Pos\", \"Expert 3 Pos\"]\n",
    "portfolio_val.fillna(portfolio_val.mean(), inplace = True)\n",
    "portfolio_val.tail()"
   ]
  },
  {
   "cell_type": "code",
   "execution_count": 121,
   "metadata": {
    "collapsed": true
   },
   "outputs": [],
   "source": [
    "portfolio_val[\"Total Pos\"] = portfolio_val.sum(axis = 1)"
   ]
  },
  {
   "cell_type": "code",
   "execution_count": 123,
   "metadata": {},
   "outputs": [
    {
     "data": {
      "text/plain": [
       "Text(0,0.5,'Portafolio Value')"
      ]
     },
     "execution_count": 123,
     "metadata": {},
     "output_type": "execute_result"
    },
    {
     "data": {
      "image/png": "[encoded data removed]",
      "text/plain": [
       "<matplotlib.figure.Figure at 0x26f7e4939e8>"
      ]
     },
     "metadata": {},
     "output_type": "display_data"
    }
   ],
   "source": [
    "portfolio_val[\"Total Pos\"].plot(figsize = (16, 8))\n",
    "plt.title(\"Total Portfolio Value\")\n",
    "plt.xlabel(\"No. Trades\")\n",
    "plt.ylabel(\"Portafolio Value\")"
   ]
  },
  {
   "cell_type": "code",
   "execution_count": 124,
   "metadata": {},
   "outputs": [
    {
     "data": {
      "text/plain": [
       "Text(0,0.5,'Position Value')"
      ]
     },
     "execution_count": 124,
     "metadata": {},
     "output_type": "execute_result"
    },
    {
     "data": {
      "image/png": "[encoded data removed]",
      "text/plain": [
       "<matplotlib.figure.Figure at 0x26f7e3e2978>"
      ]
     },
     "metadata": {},
     "output_type": "display_data"
    }
   ],
   "source": [
    "portfolio_val.drop(\"Total Pos\", axis = 1).plot(kind = \"line\", figsize = (16, 8))\n",
    "plt.title(\"Position Values per Expert\")\n",
    "plt.xlabel(\"No.Trades\")\n",
    "plt.ylabel(\"Position Value\")"
   ]
  },
  {
   "cell_type": "code",
   "execution_count": 125,
   "metadata": {},
   "outputs": [
    {
     "name": "stdout",
     "output_type": "stream",
     "text": [
      "Our return -5.235841349638937 was percent\n"
     ]
    }
   ],
   "source": [
    "# Portafolio Statistics.\n",
    "\n",
    "# Daily return.\n",
    "portfolio_val[\"Daily Return\"] = portfolio_val[\"Total Pos\"].pct_change(1)\n",
    "\n",
    "# Cumulative return.\n",
    "cum_ret = 100 * (portfolio_val[\"Total Pos\"].iloc[-1] / portfolio_val[\"Total Pos\"].iloc[0] - 1)\n",
    "print(\"Our return {} was percent\".format(cum_ret))"
   ]
  },
  {
   "cell_type": "code",
   "execution_count": 126,
   "metadata": {},
   "outputs": [
    {
     "data": {
      "text/plain": [
       "-0.000204429212119829"
      ]
     },
     "execution_count": 126,
     "metadata": {},
     "output_type": "execute_result"
    }
   ],
   "source": [
    "# Avg Daily Return.\n",
    "portfolio_val[\"Daily Return\"].mean()"
   ]
  },
  {
   "cell_type": "code",
   "execution_count": 127,
   "metadata": {},
   "outputs": [
    {
     "data": {
      "text/plain": [
       "0.004222926725266056"
      ]
     },
     "execution_count": 127,
     "metadata": {},
     "output_type": "execute_result"
    }
   ],
   "source": [
    "portfolio_val[\"Daily Return\"].std()"
   ]
  },
  {
   "cell_type": "code",
   "execution_count": 128,
   "metadata": {},
   "outputs": [
    {
     "data": {
      "text/plain": [
       "<matplotlib.axes._subplots.AxesSubplot at 0x26f7e4c6668>"
      ]
     },
     "execution_count": 128,
     "metadata": {},
     "output_type": "execute_result"
    },
    {
     "data": {
      "image/png": "[encoded data removed]",
      "text/plain": [
       "<matplotlib.figure.Figure at 0x26f7e3ffa58>"
      ]
     },
     "metadata": {},
     "output_type": "display_data"
    }
   ],
   "source": [
    "portfolio_val[\"Daily Return\"].plot(kind = \"kde\")"
   ]
  },
  {
   "cell_type": "code",
   "execution_count": 129,
   "metadata": {},
   "outputs": [
    {
     "data": {
      "text/plain": [
       "-0.048409367583082896"
      ]
     },
     "execution_count": 129,
     "metadata": {},
     "output_type": "execute_result"
    }
   ],
   "source": [
    "# Sharpe Ratio.\n",
    "SR = portfolio_val[\"Daily Return\"].mean() / portfolio_val[\"Daily Return\"].std()\n",
    "SR"
   ]
  },
  {
   "cell_type": "code",
   "execution_count": 130,
   "metadata": {
    "collapsed": true
   },
   "outputs": [],
   "source": [
    "# Annualized Sharpe Ratio. K-Value * SR\n",
    "\n",
    "# Daily = sqrt(252)\n",
    "# Weekly = sqrt(52)\n",
    "# Monthly = sqrt(12)"
   ]
  },
  {
   "cell_type": "code",
   "execution_count": 131,
   "metadata": {},
   "outputs": [
    {
     "data": {
      "text/plain": [
       "-0.7684748865044956"
      ]
     },
     "execution_count": 131,
     "metadata": {},
     "output_type": "execute_result"
    }
   ],
   "source": [
    "ASR = (252 ** 0.5) * SR\n",
    "ASR"
   ]
  },
  {
   "cell_type": "code",
   "execution_count": 132,
   "metadata": {},
   "outputs": [
    {
     "data": {
      "text/plain": [
       "0.004222926725266056"
      ]
     },
     "execution_count": 132,
     "metadata": {},
     "output_type": "execute_result"
    }
   ],
   "source": [
    "# Portfolio STD.\n",
    "portfolio_val[\"Daily Return\"].std()"
   ]
  },
  {
   "cell_type": "code",
   "execution_count": 133,
   "metadata": {},
   "outputs": [
    {
     "data": {
      "text/plain": [
       "-0.000204429212119829"
      ]
     },
     "execution_count": 133,
     "metadata": {},
     "output_type": "execute_result"
    }
   ],
   "source": [
    "# Portfolio Mean.\n",
    "portfolio_val[\"Daily Return\"].mean()"
   ]
  },
  {
   "cell_type": "code",
   "execution_count": null,
   "metadata": {
    "collapsed": true
   },
   "outputs": [],
   "source": []
  }
 ],
 "metadata": {
  "kernelspec": {
   "display_name": "Python 3",
   "language": "python",
   "name": "python3"
  },
  "language_info": {
   "codemirror_mode": {
    "name": "ipython",
    "version": 3
   },
   "file_extension": ".py",
   "mimetype": "text/x-python",
   "name": "python",
   "nbconvert_exporter": "python",
   "pygments_lexer": "ipython3",
   "version": "3.6.3"
  }
 },
 "nbformat": 4,
 "nbformat_minor": 2
}
