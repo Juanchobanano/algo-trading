{
 "cells": [
  {
   "cell_type": "code",
   "execution_count": 2,
   "metadata": {
    "collapsed": true
   },
   "outputs": [],
   "source": [
    "# Import libaries.\n",
    "import socket\n",
    "HOST = \"127.0.0.1\"\n",
    "PORT_PYTHON = 9500\n",
    "PORT_EXPERT = 23458"
   ]
  },
  {
   "cell_type": "code",
   "execution_count": 3,
   "metadata": {},
   "outputs": [
    {
     "data": {
      "text/plain": [
       "'\\nORDER TYPE CODES.\\n\\n1. ORDER_TYPE_BUY\\n2. ORDER_TYPE_SELL\\n3. ORDER_TYPE_BUY_LIMIT\\n4. ORDER_TYPE_SELL_LIMIT\\n5. ORDER_TYPE_BUY_STOP\\n6. ORDER_TYPE_SELL_STOP\\n7. ORDER_TYPE_CLOSE_BY\\n\\n'"
      ]
     },
     "execution_count": 3,
     "metadata": {},
     "output_type": "execute_result"
    }
   ],
   "source": [
    "\"\"\"\n",
    "ORDER TYPE CODES.\n",
    "\n",
    "1. ORDER_TYPE_BUY\n",
    "2. ORDER_TYPE_SELL\n",
    "3. ORDER_TYPE_BUY_LIMIT\n",
    "4. ORDER_TYPE_SELL_LIMIT\n",
    "5. ORDER_TYPE_BUY_STOP\n",
    "6. ORDER_TYPE_SELL_STOP\n",
    "7. ORDER_TYPE_CLOSE_BY\n",
    "\n",
    "\"\"\""
   ]
  },
  {
   "cell_type": "code",
   "execution_count": 4,
   "metadata": {
    "collapsed": true
   },
   "outputs": [],
   "source": [
    "# Messenger Class.\n",
    "class messenger():\n",
    "    def __init__(self):\n",
    "        print(\"Messenger initalized!\")\n",
    "            \n",
    "    def onOrder(self, magicNumber, trade_action, lots = -1, order_id = -1, openPrice = 0, take_profit = 0, stop_loss = 0, comment = \"Order sent from Python.\"):\n",
    "          \n",
    "        # Example: \"ON_ORDER|4562|TRADE_ACTION_PENDING|19|0|1.2685|1.1246|Hello from ICapital\"\n",
    "        msg = \"ON_ORDER|\"\n",
    "        msg += str(magicNumber) + \"|\"\n",
    "        msg += str(trade_action).upper() + \"|\"\n",
    "        msg += str(lots) + \"|\"\n",
    "        msg += str(order_id) + \"|\"\n",
    "        msg += str(openPrice) + \"|\"\n",
    "        msg += str(take_profit) + \"|\"\n",
    "        msg += str(stop_loss) + \"|\"\n",
    "        \n",
    "        print(msg)\n",
    "        return msg\n",
    "      \n",
    "    def onAllocation(self, magicNumber, alloc):\n",
    "          \n",
    "         # Example: \"ALLOCATION|4562:0.02\"\n",
    "        msg = \"ALLOCATION|\"\n",
    "        msg += str(magicNumber) + \":\"\n",
    "        msg += str(alloc)\n",
    "        print(msg)\n",
    "        return msg\n",
    "      \n",
    "    def onExpert(self, magicNumber, enable_expert = True, close_positions = False, comment = \"Expert modified from python.\"):\n",
    "          \n",
    "        # Example: ON_EXPERT|4562|TRUE|TRUE|Hello from ICapital\n",
    "        msg = \"ON_EXPERT|\"\n",
    "        msg += str(magicNumber) + \"|\"\n",
    "        msg += str(enable_expert).upper() + \"|\"\n",
    "        msg += str(close_positions).upper() + \"|\"\n",
    "        msg += str(comment)\n",
    "        print(msg)\n",
    "        return msg\n",
    "      \n",
    "    def onTime(self, magicNumber, tradeMonday = True, \n",
    "                 tradeTuesday = True, tradeWednesday = True, tradeThursday = True, tradeFriday = True, startHour = 0, endHour = 24, startMinute = 0, endMinute = 60):\n",
    "          \n",
    "        # Example: ON_TIME|4562|FALSE|TRUE|TRUE|TRUE|TRUE|0|24|0|60\n",
    "        msg = \"ON_TIME|\"\n",
    "        msg += str(magicNumber) + \"|\"\n",
    "        msg += str(tradeMonday).upper() + \"|\"\n",
    "        msg += str(tradeTuesday).upper() + \"|\"\n",
    "        msg += str(tradeWednesday).upper() + \"|\"\n",
    "        msg += str(tradeThursday).upper() + \"|\"\n",
    "        msg += str(tradeFriday).upper() + \"|\"\n",
    "        msg += str(startHour) + \"|\"\n",
    "        msg += str(endHour) + \"|\"\n",
    "        msg += str(startMinute) + \"|\"\n",
    "        msg += str(endMinute)\n",
    "        print(msg)\n",
    "        return msg"
   ]
  },
  {
   "cell_type": "code",
   "execution_count": 5,
   "metadata": {
    "collapsed": true
   },
   "outputs": [],
   "source": [
    "def sendCommandToMQL5(PORT, message):\n",
    "    s = socket.socket(socket.AF_INET, socket.SOCK_STREAM)\n",
    "    print(\"Client socket initialized!\")\n",
    "\n",
    "    s.connect((HOST, PORT))\n",
    "    print(\"Socket client connected to port!\")\n",
    "\n",
    "    data = s.recv(1024)\n",
    "    print(\"Received: \", repr(data))\n",
    "\n",
    "    print(\"Sending message...\")\n",
    "    s.sendall(bytes(message, \"utf-8\"))\n",
    "\n",
    "    print(\"Message receive...\")\n",
    "    answer = s.recv(1024)\n",
    "    print(repr(answer))\n",
    "    \n",
    "    s.close()\n",
    "    print(\"Connection closed!\")"
   ]
  },
  {
   "cell_type": "code",
   "execution_count": 8,
   "metadata": {},
   "outputs": [
    {
     "name": "stdout",
     "output_type": "stream",
     "text": [
      "Messenger initalized!\n",
      "Send message directly to Expert? Y/N => Y\n",
      "ON_EXPERT|4562|FALSE|TRUE|Expert modified from ICapital.py\n"
     ]
    }
   ],
   "source": [
    "carrier = messenger()\n",
    "answer = input(\"Send message directly to Expert? Y/N => \")\n",
    "\n",
    "#message = carrier.onAllocation(4562, 0.3)\n",
    "message = carrier.onExpert(4562, False, True, comment = \"Expert modified from ICapital.py\")\n",
    "#message = carrier.onTime(4562, True, False, False, True, False, startHour = 3, endHour = 20, startMinute = 30, endMinute = 60)\n",
    "#message = carrier.onOrder(4562, \"ORDER_TYPE_SELL\", lots = 0.03, openPrice = \"BID\", comment = \"Order sent from ICapital.py\")\n",
    "\n",
    "PORT = PORT_EXPERT\n",
    "\n",
    "if answer == \"N\":\n",
    "    message = \"ICAPITAL|\"+ message\n",
    "    PORT = PORT_PYTHON"
   ]
  },
  {
   "cell_type": "code",
   "execution_count": 9,
   "metadata": {},
   "outputs": [
    {
     "name": "stdout",
     "output_type": "stream",
     "text": [
      "Client socket initialized!\n",
      "Socket client connected to port!\n",
      "Received:  b'Welcome to MQL5 Server!'\n",
      "Sending message...\n",
      "Message receive...\n",
      "b'canOperate:DONE|close_positions:error.rejected'\n",
      "Connection closed!\n"
     ]
    }
   ],
   "source": [
    "# Send command.\n",
    "sendCommandToMQL5(PORT, message)"
   ]
  },
  {
   "cell_type": "code",
   "execution_count": null,
   "metadata": {
    "collapsed": true
   },
   "outputs": [],
   "source": []
  }
 ],
 "metadata": {
  "kernelspec": {
   "display_name": "Python 3",
   "language": "python",
   "name": "python3"
  },
  "language_info": {
   "codemirror_mode": {
    "name": "ipython",
    "version": 3
   },
   "file_extension": ".py",
   "mimetype": "text/x-python",
   "name": "python",
   "nbconvert_exporter": "python",
   "pygments_lexer": "ipython3",
   "version": "3.6.3"
  }
 },
 "nbformat": 4,
 "nbformat_minor": 2
}
