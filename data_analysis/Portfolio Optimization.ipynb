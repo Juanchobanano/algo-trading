{
 "cells": [
  {
   "cell_type": "code",
   "execution_count": 1,
   "metadata": {
    "collapsed": true
   },
   "outputs": [],
   "source": [
    "# Import libraries\n",
    "import numpy as np\n",
    "import pandas as pd\n",
    "import matplotlib.pyplot as plt\n",
    "%matplotlib inline"
   ]
  },
  {
   "cell_type": "code",
   "execution_count": 2,
   "metadata": {
    "collapsed": true
   },
   "outputs": [],
   "source": [
    "# Import portafolio.\n",
    "expert1 = pd.read_csv(\"dataset/expert_4321_data.csv\")\n",
    "expert2 = pd.read_csv(\"dataset/expert_4376_data.csv\")\n",
    "expert3 = pd.read_csv(\"dataset/expert_5874_data.csv\")"
   ]
  },
  {
   "cell_type": "code",
   "execution_count": 3,
   "metadata": {
    "collapsed": true
   },
   "outputs": [],
   "source": [
    "get_balance = lambda data: data[data.direction == \"out\"][\"balance\"].to_frame()\n",
    "exp1 = get_balance(expert1)\n",
    "exp2 = get_balance(expert2)\n",
    "exp3 = get_balance(expert3)\n"
   ]
  },
  {
   "cell_type": "code",
   "execution_count": 4,
   "metadata": {
    "collapsed": true
   },
   "outputs": [],
   "source": [
    "robots = pd.concat([exp1, exp2, exp3], axis = 1)\n",
    "robots.columns = [\"Daily Balance 1\", \"Daily Balance 2\", \"Daily Balance 3\"]\n",
    "robots.fillna(robots.mean(), inplace=True)"
   ]
  },
  {
   "cell_type": "code",
   "execution_count": 5,
   "metadata": {},
   "outputs": [
    {
     "data": {
      "text/html": [
       "<div>\n",
       "<style scoped>\n",
       "    .dataframe tbody tr th:only-of-type {\n",
       "        vertical-align: middle;\n",
       "    }\n",
       "\n",
       "    .dataframe tbody tr th {\n",
       "        vertical-align: top;\n",
       "    }\n",
       "\n",
       "    .dataframe thead th {\n",
       "        text-align: right;\n",
       "    }\n",
       "</style>\n",
       "<table border=\"1\" class=\"dataframe\">\n",
       "  <thead>\n",
       "    <tr style=\"text-align: right;\">\n",
       "      <th></th>\n",
       "      <th>Daily Balance 1</th>\n",
       "      <th>Daily Balance 2</th>\n",
       "      <th>Daily Balance 3</th>\n",
       "    </tr>\n",
       "  </thead>\n",
       "  <tbody>\n",
       "    <tr>\n",
       "      <th>497</th>\n",
       "      <td>5047.472029</td>\n",
       "      <td>5303.47</td>\n",
       "      <td>4253.112727</td>\n",
       "    </tr>\n",
       "    <tr>\n",
       "      <th>499</th>\n",
       "      <td>5047.472029</td>\n",
       "      <td>5300.82</td>\n",
       "      <td>4253.112727</td>\n",
       "    </tr>\n",
       "    <tr>\n",
       "      <th>501</th>\n",
       "      <td>5047.472029</td>\n",
       "      <td>5297.79</td>\n",
       "      <td>4253.112727</td>\n",
       "    </tr>\n",
       "    <tr>\n",
       "      <th>503</th>\n",
       "      <td>5047.472029</td>\n",
       "      <td>5295.50</td>\n",
       "      <td>4253.112727</td>\n",
       "    </tr>\n",
       "    <tr>\n",
       "      <th>505</th>\n",
       "      <td>5047.472029</td>\n",
       "      <td>5294.87</td>\n",
       "      <td>4253.112727</td>\n",
       "    </tr>\n",
       "  </tbody>\n",
       "</table>\n",
       "</div>"
      ],
      "text/plain": [
       "     Daily Balance 1  Daily Balance 2  Daily Balance 3\n",
       "497      5047.472029          5303.47      4253.112727\n",
       "499      5047.472029          5300.82      4253.112727\n",
       "501      5047.472029          5297.79      4253.112727\n",
       "503      5047.472029          5295.50      4253.112727\n",
       "505      5047.472029          5294.87      4253.112727"
      ]
     },
     "execution_count": 5,
     "metadata": {},
     "output_type": "execute_result"
    }
   ],
   "source": [
    "robots.tail()"
   ]
  },
  {
   "cell_type": "code",
   "execution_count": 6,
   "metadata": {},
   "outputs": [
    {
     "data": {
      "text/plain": [
       "Daily Balance 1    0.000038\n",
       "Daily Balance 2    0.000242\n",
       "Daily Balance 3   -0.000534\n",
       "dtype: float64"
      ]
     },
     "execution_count": 6,
     "metadata": {},
     "output_type": "execute_result"
    }
   ],
   "source": [
    "mean_daily_returns = robots.pct_change(1).mean()\n",
    "mean_daily_returns"
   ]
  },
  {
   "cell_type": "code",
   "execution_count": 7,
   "metadata": {},
   "outputs": [
    {
     "data": {
      "text/html": [
       "<div>\n",
       "<style scoped>\n",
       "    .dataframe tbody tr th:only-of-type {\n",
       "        vertical-align: middle;\n",
       "    }\n",
       "\n",
       "    .dataframe tbody tr th {\n",
       "        vertical-align: top;\n",
       "    }\n",
       "\n",
       "    .dataframe thead th {\n",
       "        text-align: right;\n",
       "    }\n",
       "</style>\n",
       "<table border=\"1\" class=\"dataframe\">\n",
       "  <thead>\n",
       "    <tr style=\"text-align: right;\">\n",
       "      <th></th>\n",
       "      <th>Daily Balance 1</th>\n",
       "      <th>Daily Balance 2</th>\n",
       "      <th>Daily Balance 3</th>\n",
       "    </tr>\n",
       "  </thead>\n",
       "  <tbody>\n",
       "    <tr>\n",
       "      <th>Daily Balance 1</th>\n",
       "      <td>1.000000</td>\n",
       "      <td>0.027011</td>\n",
       "      <td>-0.052099</td>\n",
       "    </tr>\n",
       "    <tr>\n",
       "      <th>Daily Balance 2</th>\n",
       "      <td>0.027011</td>\n",
       "      <td>1.000000</td>\n",
       "      <td>0.014433</td>\n",
       "    </tr>\n",
       "    <tr>\n",
       "      <th>Daily Balance 3</th>\n",
       "      <td>-0.052099</td>\n",
       "      <td>0.014433</td>\n",
       "      <td>1.000000</td>\n",
       "    </tr>\n",
       "  </tbody>\n",
       "</table>\n",
       "</div>"
      ],
      "text/plain": [
       "                 Daily Balance 1  Daily Balance 2  Daily Balance 3\n",
       "Daily Balance 1         1.000000         0.027011        -0.052099\n",
       "Daily Balance 2         0.027011         1.000000         0.014433\n",
       "Daily Balance 3        -0.052099         0.014433         1.000000"
      ]
     },
     "execution_count": 7,
     "metadata": {},
     "output_type": "execute_result"
    }
   ],
   "source": [
    "robots.pct_change(1).corr()"
   ]
  },
  {
   "cell_type": "code",
   "execution_count": 46,
   "metadata": {},
   "outputs": [
    {
     "data": {
      "text/html": [
       "<div>\n",
       "<style scoped>\n",
       "    .dataframe tbody tr th:only-of-type {\n",
       "        vertical-align: middle;\n",
       "    }\n",
       "\n",
       "    .dataframe tbody tr th {\n",
       "        vertical-align: top;\n",
       "    }\n",
       "\n",
       "    .dataframe thead th {\n",
       "        text-align: right;\n",
       "    }\n",
       "</style>\n",
       "<table border=\"1\" class=\"dataframe\">\n",
       "  <thead>\n",
       "    <tr style=\"text-align: right;\">\n",
       "      <th></th>\n",
       "      <th>Daily Balance 1</th>\n",
       "      <th>Daily Balance 2</th>\n",
       "      <th>Daily Balance 3</th>\n",
       "    </tr>\n",
       "  </thead>\n",
       "  <tbody>\n",
       "    <tr>\n",
       "      <th>Daily Balance 1</th>\n",
       "      <td>1.000000</td>\n",
       "      <td>0.000730</td>\n",
       "      <td>0.002714</td>\n",
       "    </tr>\n",
       "    <tr>\n",
       "      <th>Daily Balance 2</th>\n",
       "      <td>0.000730</td>\n",
       "      <td>1.000000</td>\n",
       "      <td>0.000208</td>\n",
       "    </tr>\n",
       "    <tr>\n",
       "      <th>Daily Balance 3</th>\n",
       "      <td>0.002714</td>\n",
       "      <td>0.000208</td>\n",
       "      <td>1.000000</td>\n",
       "    </tr>\n",
       "  </tbody>\n",
       "</table>\n",
       "</div>"
      ],
      "text/plain": [
       "                 Daily Balance 1  Daily Balance 2  Daily Balance 3\n",
       "Daily Balance 1         1.000000         0.000730         0.002714\n",
       "Daily Balance 2         0.000730         1.000000         0.000208\n",
       "Daily Balance 3         0.002714         0.000208         1.000000"
      ]
     },
     "execution_count": 46,
     "metadata": {},
     "output_type": "execute_result"
    }
   ],
   "source": [
    "robots.pct_change(1).corr() ** 2"
   ]
  },
  {
   "cell_type": "code",
   "execution_count": 8,
   "metadata": {},
   "outputs": [
    {
     "data": {
      "text/plain": [
       "<matplotlib.image.AxesImage at 0x20602d84518>"
      ]
     },
     "execution_count": 8,
     "metadata": {},
     "output_type": "execute_result"
    },
    {
     "data": {
      "image/png": "[encoded data removed]",
      "text/plain": [
       "<matplotlib.figure.Figure at 0x2067e080128>"
      ]
     },
     "metadata": {},
     "output_type": "display_data"
    }
   ],
   "source": [
    "corrs = robots.pct_change(1).corr()\n",
    "plt.matshow(corrs)"
   ]
  },
  {
   "cell_type": "code",
   "execution_count": 9,
   "metadata": {},
   "outputs": [
    {
     "data": {
      "text/html": [
       "<div>\n",
       "<style scoped>\n",
       "    .dataframe tbody tr th:only-of-type {\n",
       "        vertical-align: middle;\n",
       "    }\n",
       "\n",
       "    .dataframe tbody tr th {\n",
       "        vertical-align: top;\n",
       "    }\n",
       "\n",
       "    .dataframe thead th {\n",
       "        text-align: right;\n",
       "    }\n",
       "</style>\n",
       "<table border=\"1\" class=\"dataframe\">\n",
       "  <thead>\n",
       "    <tr style=\"text-align: right;\">\n",
       "      <th></th>\n",
       "      <th>Daily Balance 1</th>\n",
       "      <th>Daily Balance 2</th>\n",
       "      <th>Daily Balance 3</th>\n",
       "    </tr>\n",
       "  </thead>\n",
       "  <tbody>\n",
       "    <tr>\n",
       "      <th>1</th>\n",
       "      <td>5000.22</td>\n",
       "      <td>4995.68</td>\n",
       "      <td>4913.16</td>\n",
       "    </tr>\n",
       "    <tr>\n",
       "      <th>3</th>\n",
       "      <td>5002.55</td>\n",
       "      <td>4995.44</td>\n",
       "      <td>4629.66</td>\n",
       "    </tr>\n",
       "    <tr>\n",
       "      <th>5</th>\n",
       "      <td>5002.69</td>\n",
       "      <td>5073.76</td>\n",
       "      <td>4644.86</td>\n",
       "    </tr>\n",
       "    <tr>\n",
       "      <th>7</th>\n",
       "      <td>5003.07</td>\n",
       "      <td>5067.55</td>\n",
       "      <td>4650.46</td>\n",
       "    </tr>\n",
       "    <tr>\n",
       "      <th>9</th>\n",
       "      <td>5006.53</td>\n",
       "      <td>5273.85</td>\n",
       "      <td>4664.19</td>\n",
       "    </tr>\n",
       "  </tbody>\n",
       "</table>\n",
       "</div>"
      ],
      "text/plain": [
       "   Daily Balance 1  Daily Balance 2  Daily Balance 3\n",
       "1          5000.22          4995.68          4913.16\n",
       "3          5002.55          4995.44          4629.66\n",
       "5          5002.69          5073.76          4644.86\n",
       "7          5003.07          5067.55          4650.46\n",
       "9          5006.53          5273.85          4664.19"
      ]
     },
     "execution_count": 9,
     "metadata": {},
     "output_type": "execute_result"
    }
   ],
   "source": [
    "# Simulating thousand of possible allocations.\n",
    "robots.head()"
   ]
  },
  {
   "cell_type": "code",
   "execution_count": 10,
   "metadata": {},
   "outputs": [
    {
     "data": {
      "text/plain": [
       "<matplotlib.axes._subplots.AxesSubplot at 0x20602dadf28>"
      ]
     },
     "execution_count": 10,
     "metadata": {},
     "output_type": "execute_result"
    },
    {
     "data": {
      "image/png": "[encoded data removed]",
      "text/plain": [
       "<matplotlib.figure.Figure at 0x20602d84c88>"
      ]
     },
     "metadata": {},
     "output_type": "display_data"
    }
   ],
   "source": [
    "robots_normed = robots / robots.iloc[0]\n",
    "robots_normed.plot(figsize=(10,6))"
   ]
  },
  {
   "cell_type": "code",
   "execution_count": 11,
   "metadata": {
    "collapsed": true
   },
   "outputs": [],
   "source": [
    "# Log Returns vs Arithmetic Returns."
   ]
  },
  {
   "cell_type": "code",
   "execution_count": 12,
   "metadata": {},
   "outputs": [
    {
     "data": {
      "text/html": [
       "<div>\n",
       "<style scoped>\n",
       "    .dataframe tbody tr th:only-of-type {\n",
       "        vertical-align: middle;\n",
       "    }\n",
       "\n",
       "    .dataframe tbody tr th {\n",
       "        vertical-align: top;\n",
       "    }\n",
       "\n",
       "    .dataframe thead th {\n",
       "        text-align: right;\n",
       "    }\n",
       "</style>\n",
       "<table border=\"1\" class=\"dataframe\">\n",
       "  <thead>\n",
       "    <tr style=\"text-align: right;\">\n",
       "      <th></th>\n",
       "      <th>Daily Returns Robot 1</th>\n",
       "      <th>Daily Returns Robot 2</th>\n",
       "      <th>Daily Returns Robot 3</th>\n",
       "    </tr>\n",
       "  </thead>\n",
       "  <tbody>\n",
       "    <tr>\n",
       "      <th>1</th>\n",
       "      <td>NaN</td>\n",
       "      <td>NaN</td>\n",
       "      <td>NaN</td>\n",
       "    </tr>\n",
       "    <tr>\n",
       "      <th>3</th>\n",
       "      <td>0.000466</td>\n",
       "      <td>-0.000048</td>\n",
       "      <td>-0.059434</td>\n",
       "    </tr>\n",
       "    <tr>\n",
       "      <th>5</th>\n",
       "      <td>0.000028</td>\n",
       "      <td>0.015557</td>\n",
       "      <td>0.003278</td>\n",
       "    </tr>\n",
       "    <tr>\n",
       "      <th>7</th>\n",
       "      <td>0.000076</td>\n",
       "      <td>-0.001225</td>\n",
       "      <td>0.001205</td>\n",
       "    </tr>\n",
       "    <tr>\n",
       "      <th>9</th>\n",
       "      <td>0.000691</td>\n",
       "      <td>0.039903</td>\n",
       "      <td>0.002948</td>\n",
       "    </tr>\n",
       "  </tbody>\n",
       "</table>\n",
       "</div>"
      ],
      "text/plain": [
       "   Daily Returns Robot 1  Daily Returns Robot 2  Daily Returns Robot 3\n",
       "1                    NaN                    NaN                    NaN\n",
       "3               0.000466              -0.000048              -0.059434\n",
       "5               0.000028               0.015557               0.003278\n",
       "7               0.000076              -0.001225               0.001205\n",
       "9               0.000691               0.039903               0.002948"
      ]
     },
     "execution_count": 12,
     "metadata": {},
     "output_type": "execute_result"
    }
   ],
   "source": [
    "log_ret = np.log(robots / robots.shift(1))\n",
    "log_ret.columns = [\"Daily Returns Robot 1\", \"Daily Returns Robot 2\", \"Daily Returns Robot 3\"]\n",
    "log_ret.head()"
   ]
  },
  {
   "cell_type": "code",
   "execution_count": 13,
   "metadata": {},
   "outputs": [
    {
     "data": {
      "image/png": "[encoded data removed]",
      "text/plain": [
       "<matplotlib.figure.Figure at 0x20602ef6390>"
      ]
     },
     "metadata": {},
     "output_type": "display_data"
    }
   ],
   "source": [
    "log_ret.hist(bins = 100, figsize = (12, 6))\n",
    "plt.tight_layout()"
   ]
  },
  {
   "cell_type": "code",
   "execution_count": 14,
   "metadata": {},
   "outputs": [
    {
     "data": {
      "text/html": [
       "<div>\n",
       "<style scoped>\n",
       "    .dataframe tbody tr th:only-of-type {\n",
       "        vertical-align: middle;\n",
       "    }\n",
       "\n",
       "    .dataframe tbody tr th {\n",
       "        vertical-align: top;\n",
       "    }\n",
       "\n",
       "    .dataframe thead th {\n",
       "        text-align: right;\n",
       "    }\n",
       "</style>\n",
       "<table border=\"1\" class=\"dataframe\">\n",
       "  <thead>\n",
       "    <tr style=\"text-align: right;\">\n",
       "      <th></th>\n",
       "      <th>count</th>\n",
       "      <th>mean</th>\n",
       "      <th>std</th>\n",
       "      <th>min</th>\n",
       "      <th>25%</th>\n",
       "      <th>50%</th>\n",
       "      <th>75%</th>\n",
       "      <th>max</th>\n",
       "    </tr>\n",
       "  </thead>\n",
       "  <tbody>\n",
       "    <tr>\n",
       "      <th>Daily Returns Robot 1</th>\n",
       "      <td>252.0</td>\n",
       "      <td>0.000037</td>\n",
       "      <td>0.000597</td>\n",
       "      <td>-0.008465</td>\n",
       "      <td>0.000000</td>\n",
       "      <td>0.000000</td>\n",
       "      <td>0.000006</td>\n",
       "      <td>0.001675</td>\n",
       "    </tr>\n",
       "    <tr>\n",
       "      <th>Daily Returns Robot 2</th>\n",
       "      <td>252.0</td>\n",
       "      <td>0.000231</td>\n",
       "      <td>0.004743</td>\n",
       "      <td>-0.014251</td>\n",
       "      <td>-0.001446</td>\n",
       "      <td>-0.000293</td>\n",
       "      <td>0.000220</td>\n",
       "      <td>0.039903</td>\n",
       "    </tr>\n",
       "    <tr>\n",
       "      <th>Daily Returns Robot 3</th>\n",
       "      <td>252.0</td>\n",
       "      <td>-0.000572</td>\n",
       "      <td>0.008854</td>\n",
       "      <td>-0.059434</td>\n",
       "      <td>0.000000</td>\n",
       "      <td>0.000000</td>\n",
       "      <td>0.000000</td>\n",
       "      <td>0.016183</td>\n",
       "    </tr>\n",
       "  </tbody>\n",
       "</table>\n",
       "</div>"
      ],
      "text/plain": [
       "                       count      mean       std       min       25%  \\\n",
       "Daily Returns Robot 1  252.0  0.000037  0.000597 -0.008465  0.000000   \n",
       "Daily Returns Robot 2  252.0  0.000231  0.004743 -0.014251 -0.001446   \n",
       "Daily Returns Robot 3  252.0 -0.000572  0.008854 -0.059434  0.000000   \n",
       "\n",
       "                            50%       75%       max  \n",
       "Daily Returns Robot 1  0.000000  0.000006  0.001675  \n",
       "Daily Returns Robot 2 -0.000293  0.000220  0.039903  \n",
       "Daily Returns Robot 3  0.000000  0.000000  0.016183  "
      ]
     },
     "execution_count": 14,
     "metadata": {},
     "output_type": "execute_result"
    }
   ],
   "source": [
    "log_ret.describe().transpose()"
   ]
  },
  {
   "cell_type": "code",
   "execution_count": 15,
   "metadata": {},
   "outputs": [
    {
     "data": {
      "text/plain": [
       "Daily Returns Robot 1     0.940562\n",
       "Daily Returns Robot 2     5.816489\n",
       "Daily Returns Robot 3   -14.426620\n",
       "dtype: float64"
      ]
     },
     "execution_count": 15,
     "metadata": {},
     "output_type": "execute_result"
    }
   ],
   "source": [
    "# Expected annual return in percentage.\n",
    "log_ret.mean() * 252 * 100"
   ]
  },
  {
   "cell_type": "code",
   "execution_count": 16,
   "metadata": {},
   "outputs": [
    {
     "data": {
      "text/html": [
       "<div>\n",
       "<style scoped>\n",
       "    .dataframe tbody tr th:only-of-type {\n",
       "        vertical-align: middle;\n",
       "    }\n",
       "\n",
       "    .dataframe tbody tr th {\n",
       "        vertical-align: top;\n",
       "    }\n",
       "\n",
       "    .dataframe thead th {\n",
       "        text-align: right;\n",
       "    }\n",
       "</style>\n",
       "<table border=\"1\" class=\"dataframe\">\n",
       "  <thead>\n",
       "    <tr style=\"text-align: right;\">\n",
       "      <th></th>\n",
       "      <th>Daily Returns Robot 1</th>\n",
       "      <th>Daily Returns Robot 2</th>\n",
       "      <th>Daily Returns Robot 3</th>\n",
       "    </tr>\n",
       "  </thead>\n",
       "  <tbody>\n",
       "    <tr>\n",
       "      <th>Daily Returns Robot 1</th>\n",
       "      <td>3.566530e-07</td>\n",
       "      <td>7.503981e-08</td>\n",
       "      <td>-2.810377e-07</td>\n",
       "    </tr>\n",
       "    <tr>\n",
       "      <th>Daily Returns Robot 2</th>\n",
       "      <td>7.503981e-08</td>\n",
       "      <td>2.249838e-05</td>\n",
       "      <td>5.738756e-07</td>\n",
       "    </tr>\n",
       "    <tr>\n",
       "      <th>Daily Returns Robot 3</th>\n",
       "      <td>-2.810377e-07</td>\n",
       "      <td>5.738756e-07</td>\n",
       "      <td>7.839462e-05</td>\n",
       "    </tr>\n",
       "  </tbody>\n",
       "</table>\n",
       "</div>"
      ],
      "text/plain": [
       "                       Daily Returns Robot 1  Daily Returns Robot 2  \\\n",
       "Daily Returns Robot 1           3.566530e-07           7.503981e-08   \n",
       "Daily Returns Robot 2           7.503981e-08           2.249838e-05   \n",
       "Daily Returns Robot 3          -2.810377e-07           5.738756e-07   \n",
       "\n",
       "                       Daily Returns Robot 3  \n",
       "Daily Returns Robot 1          -2.810377e-07  \n",
       "Daily Returns Robot 2           5.738756e-07  \n",
       "Daily Returns Robot 3           7.839462e-05  "
      ]
     },
     "execution_count": 16,
     "metadata": {},
     "output_type": "execute_result"
    }
   ],
   "source": [
    "log_ret.cov()"
   ]
  },
  {
   "cell_type": "code",
   "execution_count": 17,
   "metadata": {},
   "outputs": [
    {
     "data": {
      "text/html": [
       "<div>\n",
       "<style scoped>\n",
       "    .dataframe tbody tr th:only-of-type {\n",
       "        vertical-align: middle;\n",
       "    }\n",
       "\n",
       "    .dataframe tbody tr th {\n",
       "        vertical-align: top;\n",
       "    }\n",
       "\n",
       "    .dataframe thead th {\n",
       "        text-align: right;\n",
       "    }\n",
       "</style>\n",
       "<table border=\"1\" class=\"dataframe\">\n",
       "  <thead>\n",
       "    <tr style=\"text-align: right;\">\n",
       "      <th></th>\n",
       "      <th>Daily Returns Robot 1</th>\n",
       "      <th>Daily Returns Robot 2</th>\n",
       "      <th>Daily Returns Robot 3</th>\n",
       "    </tr>\n",
       "  </thead>\n",
       "  <tbody>\n",
       "    <tr>\n",
       "      <th>Daily Returns Robot 1</th>\n",
       "      <td>0.000090</td>\n",
       "      <td>0.000019</td>\n",
       "      <td>-0.000071</td>\n",
       "    </tr>\n",
       "    <tr>\n",
       "      <th>Daily Returns Robot 2</th>\n",
       "      <td>0.000019</td>\n",
       "      <td>0.005670</td>\n",
       "      <td>0.000145</td>\n",
       "    </tr>\n",
       "    <tr>\n",
       "      <th>Daily Returns Robot 3</th>\n",
       "      <td>-0.000071</td>\n",
       "      <td>0.000145</td>\n",
       "      <td>0.019755</td>\n",
       "    </tr>\n",
       "  </tbody>\n",
       "</table>\n",
       "</div>"
      ],
      "text/plain": [
       "                       Daily Returns Robot 1  Daily Returns Robot 2  \\\n",
       "Daily Returns Robot 1               0.000090               0.000019   \n",
       "Daily Returns Robot 2               0.000019               0.005670   \n",
       "Daily Returns Robot 3              -0.000071               0.000145   \n",
       "\n",
       "                       Daily Returns Robot 3  \n",
       "Daily Returns Robot 1              -0.000071  \n",
       "Daily Returns Robot 2               0.000145  \n",
       "Daily Returns Robot 3               0.019755  "
      ]
     },
     "execution_count": 17,
     "metadata": {},
     "output_type": "execute_result"
    }
   ],
   "source": [
    "log_ret.cov() * 252 # multiply by days"
   ]
  },
  {
   "cell_type": "code",
   "execution_count": 18,
   "metadata": {
    "collapsed": true
   },
   "outputs": [],
   "source": [
    "# Single run for some random allocation."
   ]
  },
  {
   "cell_type": "code",
   "execution_count": 19,
   "metadata": {},
   "outputs": [
    {
     "name": "stdout",
     "output_type": "stream",
     "text": [
      "Robots\n",
      "Index(['Daily Balance 1', 'Daily Balance 2', 'Daily Balance 3'], dtype='object')\n",
      "\n",
      "\n",
      "Creating Random Weights\n",
      "[0.51639863 0.57066759 0.02847423]\n",
      "\n",
      "\n",
      "Rebalance to sum to 1.0\n",
      "[0.46291341 0.51156154 0.02552505]\n",
      "\n",
      "\n",
      "Expected Portfolio Return\n",
      "0.03042650461124837\n",
      "\n",
      "\n",
      "Expected Volatility\n",
      "0.03907550640182475\n",
      "\n",
      "\n",
      "Sharpe Ratio\n",
      "0.7786592526367748\n"
     ]
    }
   ],
   "source": [
    "# Set seed (optional)\n",
    "np.random.seed(101)\n",
    "\n",
    "# Columns names.\n",
    "print(\"Robots\")\n",
    "print(robots.columns)\n",
    "print('\\n')\n",
    "\n",
    "# Create Random Weights.\n",
    "print(\"Creating Random Weights\")\n",
    "weights = np.array(np.random.random(3))\n",
    "print(weights)\n",
    "print('\\n')\n",
    "\n",
    "# Rebalance Weights\n",
    "print(\"Rebalance to sum to 1.0\")\n",
    "weights = weights / np.sum(weights)\n",
    "print(weights)\n",
    "print('\\n')\n",
    "\n",
    "# Expected Return.\n",
    "print(\"Expected Portfolio Return\")\n",
    "exp_ret = np.sum(log_ret.mean() * weights) * 252\n",
    "print(exp_ret)\n",
    "print('\\n')\n",
    "\n",
    "# Expected Standard Deviation.\n",
    "print(\"Expected Volatility\")\n",
    "exp_vol = np.sqrt(np.dot(weights.T, np.dot(log_ret.cov() * 252, weights)))\n",
    "print(exp_vol)\n",
    "print('\\n')\n",
    "\n",
    "# Sharpe Ratio.\n",
    "SR = exp_ret / exp_vol\n",
    "print(\"Sharpe Ratio\")\n",
    "print(SR)"
   ]
  },
  {
   "cell_type": "code",
   "execution_count": 20,
   "metadata": {
    "collapsed": true
   },
   "outputs": [],
   "source": [
    "num_ports = 15000\n",
    "all_weights = np.zeros((num_ports, len(robots.columns)))\n",
    "ret_arr = np.zeros(num_ports)\n",
    "vol_arr = np.zeros(num_ports)\n",
    "sharpe_arr = np.zeros(num_ports)\n",
    "\n",
    "for ind in range(num_ports):\n",
    "    \n",
    "    # Create Random Weights.\n",
    "    weights = np.array(np.random.random(3))\n",
    "    \n",
    "    # Rebalance Weights.\n",
    "    weights = weights / np.sum(weights)\n",
    "    \n",
    "    # Save Weights.\n",
    "    all_weights[ind, :] = weights\n",
    "    \n",
    "    # Expected Return.\n",
    "    ret_arr[ind] = np.sum((log_ret.mean() * weights) * 252)\n",
    "    \n",
    "    # Expected Variance.\n",
    "    vol_arr[ind] = np.sqrt(np.dot(weights.T, np.dot(log_ret.cov() * 252, weights)))\n",
    "    \n",
    "    # Sharpe Ratio.\n",
    "    sharpe_arr[ind] = ret_arr[ind] / vol_arr[ind] "
   ]
  },
  {
   "cell_type": "code",
   "execution_count": 21,
   "metadata": {},
   "outputs": [
    {
     "data": {
      "text/plain": [
       "1.2312274677820885"
      ]
     },
     "execution_count": 21,
     "metadata": {},
     "output_type": "execute_result"
    }
   ],
   "source": [
    "sharpe_arr.max()"
   ]
  },
  {
   "cell_type": "code",
   "execution_count": 22,
   "metadata": {},
   "outputs": [
    {
     "data": {
      "text/plain": [
       "725"
      ]
     },
     "execution_count": 22,
     "metadata": {},
     "output_type": "execute_result"
    }
   ],
   "source": [
    "index = sharpe_arr.argmax()\n",
    "index"
   ]
  },
  {
   "cell_type": "code",
   "execution_count": 23,
   "metadata": {},
   "outputs": [
    {
     "data": {
      "text/plain": [
       "array([8.98426351e-01, 1.00983352e-01, 5.90297739e-04])"
      ]
     },
     "execution_count": 23,
     "metadata": {},
     "output_type": "execute_result"
    }
   ],
   "source": [
    "all_weights[index, :]"
   ]
  },
  {
   "cell_type": "code",
   "execution_count": 24,
   "metadata": {},
   "outputs": [
    {
     "name": "stdout",
     "output_type": "stream",
     "text": [
      "0.014238780559711726 0.011564703462440791\n"
     ]
    }
   ],
   "source": [
    "max_sr_ret = ret_arr[index]\n",
    "max_sr_vol = vol_arr[index]\n",
    "\n",
    "print(max_sr_ret, max_sr_vol)"
   ]
  },
  {
   "cell_type": "code",
   "execution_count": 25,
   "metadata": {},
   "outputs": [
    {
     "data": {
      "text/plain": [
       "<matplotlib.collections.PathCollection at 0x2060335bf60>"
      ]
     },
     "execution_count": 25,
     "metadata": {},
     "output_type": "execute_result"
    },
    {
     "data": {
      "image/png": "[encoded data removed]",
      "text/plain": [
       "<matplotlib.figure.Figure at 0x206031d16a0>"
      ]
     },
     "metadata": {},
     "output_type": "display_data"
    }
   ],
   "source": [
    "plt.figure(figsize = (12, 8))\n",
    "plt.scatter(vol_arr, ret_arr, c = sharpe_arr, cmap = \"plasma\")\n",
    "plt.colorbar(label = \"Sharpe Ratio\")\n",
    "plt.xlabel(\"Volatility\")\n",
    "plt.ylabel(\"Return\")\n",
    "\n",
    "# Add red dot for max SR.\n",
    "plt.scatter(max_sr_vol, max_sr_ret, c= \"red\", s = 50, edgecolors=\"black\")"
   ]
  },
  {
   "cell_type": "code",
   "execution_count": 26,
   "metadata": {
    "collapsed": true
   },
   "outputs": [],
   "source": [
    "# Mathematical Optimization\n",
    "def get_ret_vol_sr(weights):\n",
    "    weights = np.array(weights)\n",
    "    ret = np.sum(log_ret.mean() * weights) * 252\n",
    "    vol = np.sqrt(np.dot(weights.T, np.dot(log_ret.cov() * 252, weights)))\n",
    "    sr = ret / vol\n",
    "    return np.array([ret, vol, sr])"
   ]
  },
  {
   "cell_type": "code",
   "execution_count": 27,
   "metadata": {
    "collapsed": true
   },
   "outputs": [],
   "source": [
    "from scipy.optimize import minimize"
   ]
  },
  {
   "cell_type": "code",
   "execution_count": 28,
   "metadata": {
    "collapsed": true
   },
   "outputs": [],
   "source": [
    "def neg_sharpe(weights):\n",
    "    return get_ret_vol_sr(weights)[2] * -1"
   ]
  },
  {
   "cell_type": "code",
   "execution_count": 29,
   "metadata": {
    "collapsed": true
   },
   "outputs": [],
   "source": [
    "# Contraints.\n",
    "def check_sum(weights):\n",
    "    return np.sum(weights) - 1"
   ]
  },
  {
   "cell_type": "code",
   "execution_count": 30,
   "metadata": {
    "collapsed": true
   },
   "outputs": [],
   "source": [
    "# By convention of minimize function it should be a function that returns zero for conditions.\n",
    "cons = ({\"type\": \"eq\", \"fun\": check_sum})"
   ]
  },
  {
   "cell_type": "code",
   "execution_count": 31,
   "metadata": {
    "collapsed": true
   },
   "outputs": [],
   "source": [
    "# 0-1 bounds for each weight.\n",
    "bounds = ((0,1), (0,1), (0,1))"
   ]
  },
  {
   "cell_type": "code",
   "execution_count": 32,
   "metadata": {
    "collapsed": true
   },
   "outputs": [],
   "source": [
    "# Initial GUess (equal distribution.)\n",
    "init_guess = [0.25, 0.25, 0.25]"
   ]
  },
  {
   "cell_type": "code",
   "execution_count": 33,
   "metadata": {
    "collapsed": true
   },
   "outputs": [],
   "source": [
    "# Sequential Least Squares Programming (SLSQP).\n",
    "opt_results = minimize(neg_sharpe,init_guess,method='SLSQP',bounds=bounds,constraints=cons)"
   ]
  },
  {
   "cell_type": "code",
   "execution_count": 34,
   "metadata": {},
   "outputs": [
    {
     "data": {
      "text/plain": [
       "array([9.11831811e-01, 8.81681888e-02, 1.03530193e-13])"
      ]
     },
     "execution_count": 34,
     "metadata": {},
     "output_type": "execute_result"
    }
   ],
   "source": [
    "opt_results.x"
   ]
  },
  {
   "cell_type": "code",
   "execution_count": 35,
   "metadata": {},
   "outputs": [
    {
     "data": {
      "text/plain": [
       "array([0.01370463, 0.01103814, 1.24157095])"
      ]
     },
     "execution_count": 35,
     "metadata": {},
     "output_type": "execute_result"
    }
   ],
   "source": [
    "get_ret_vol_sr(opt_results.x)"
   ]
  },
  {
   "cell_type": "code",
   "execution_count": 36,
   "metadata": {
    "collapsed": true
   },
   "outputs": [],
   "source": [
    "# All Optiminal Portfolios (Efficient Frontier)."
   ]
  },
  {
   "cell_type": "code",
   "execution_count": 37,
   "metadata": {
    "collapsed": true
   },
   "outputs": [],
   "source": [
    "# Our returns go from 0 to somewhere along 0.3\n",
    "# Create a linspace number of points to calculate x on.\n",
    "frontier_y = np.linspace(0, 0.3, 100)"
   ]
  },
  {
   "cell_type": "code",
   "execution_count": 38,
   "metadata": {
    "collapsed": true
   },
   "outputs": [],
   "source": [
    "def minimize_volatility(weights):\n",
    "    return get_ret_vol_sr(weights)[1]"
   ]
  },
  {
   "cell_type": "code",
   "execution_count": 39,
   "metadata": {
    "collapsed": true
   },
   "outputs": [],
   "source": [
    "frontier_volatility = []\n",
    "for possible_return in frontier_y:\n",
    "    # function for return.\n",
    "    cons = ({\"type\": \"eq\", \"fun\": check_sum}, \n",
    "            {\"type\": \"eq\", \"fun\": lambda w: get_ret_vol_sr(w)[0] - possible_return})\n",
    "    result = minimize(minimize_volatility, init_guess, method = \"SLSQP\", bounds = bounds, constraints = cons)\n",
    "    frontier_volatility.append(result[\"fun\"])"
   ]
  },
  {
   "cell_type": "code",
   "execution_count": 40,
   "metadata": {},
   "outputs": [
    {
     "data": {
      "text/plain": [
       "[<matplotlib.lines.Line2D at 0x2060314ca90>]"
      ]
     },
     "execution_count": 40,
     "metadata": {},
     "output_type": "execute_result"
    },
    {
     "data": {
      "image/png": "[encoded data removed]",
      "text/plain": [
       "<matplotlib.figure.Figure at 0x206032c60f0>"
      ]
     },
     "metadata": {},
     "output_type": "display_data"
    }
   ],
   "source": [
    "plt.figure(figsize=(12,8))\n",
    "plt.scatter(vol_arr, ret_arr, c = sharpe_arr, cmap = \"plasma\")\n",
    "plt.colorbar(label = \"Sharpe Ratio\")\n",
    "plt.xlabel(\"Volatility\")\n",
    "plt.ylabel(\"Return\")\n",
    "\n",
    "# Add red dot for max SR.\n",
    "plt.scatter(max_sr_vol, max_sr_ret, c= \"green\", s = 200, edgecolors=\"black\")\n",
    "\n",
    "# Add frontier line.\n",
    "plt.plot(frontier_volatility, frontier_y, \"b--\", linewidth=3)"
   ]
  },
  {
   "cell_type": "code",
   "execution_count": 41,
   "metadata": {},
   "outputs": [
    {
     "data": {
      "text/plain": [
       "array([9.11831811e-01, 8.81681888e-02, 1.03530193e-13])"
      ]
     },
     "execution_count": 41,
     "metadata": {},
     "output_type": "execute_result"
    }
   ],
   "source": [
    "opt_results.x"
   ]
  },
  {
   "cell_type": "code",
   "execution_count": 42,
   "metadata": {},
   "outputs": [
    {
     "name": "stdout",
     "output_type": "stream",
     "text": [
      "\n",
      "Expert  1\n",
      "Allocation results:  [9.11831811e-01 8.81681888e-02 1.03530193e-13]\n",
      "Investment in dlls:  2735.4954\n",
      "Risk 2% in dlls:  54.709908\n",
      "Lot Size per Trade  0.27354954\n",
      "\n",
      "Expert  2\n",
      "Allocation results:  [9.11831811e-01 8.81681888e-02 1.03530193e-13]\n",
      "Investment in dlls:  264.5046\n",
      "Risk 2% in dlls:  5.290092\n",
      "Lot Size per Trade  0.01763364\n",
      "\n",
      "Expert  3\n",
      "Allocation results:  [9.11831811e-01 8.81681888e-02 1.03530193e-13]\n",
      "Investment in dlls:  0.0\n",
      "Risk 2% in dlls:  0.0\n",
      "Lot Size per Trade  0.0\n"
     ]
    }
   ],
   "source": [
    "money = 3000\n",
    "stop_loss_pips = [20, 30, 10]\n",
    "count = 0\n",
    "\n",
    "for w in opt_results.x:\n",
    "    print(\"\")\n",
    "    print(\"Expert \", count + 1)\n",
    "    print(\"Allocation results: \", opt_results.x)\n",
    "    \n",
    "    investment = round(w * money, 4)\n",
    "    print(\"Investment in dlls: \", investment)\n",
    "    \n",
    "    risk = investment * 0.02\n",
    "    print(\"Risk 2% in dlls: \", risk)\n",
    "    \n",
    "    lots = risk / (stop_loss_pips[count] * 10)\n",
    "    print(\"Lot Size per Trade \", lots)\n",
    "    \n",
    "    count += 1"
   ]
  },
  {
   "cell_type": "code",
   "execution_count": null,
   "metadata": {
    "collapsed": true
   },
   "outputs": [],
   "source": [
    "# Send results to MQL5 and change lot size per strategy.\n"
   ]
  },
  {
   "cell_type": "code",
   "execution_count": null,
   "metadata": {
    "collapsed": true
   },
   "outputs": [],
   "source": []
  }
 ],
 "metadata": {
  "kernelspec": {
   "display_name": "Python 3",
   "language": "python",
   "name": "python3"
  },
  "language_info": {
   "codemirror_mode": {
    "name": "ipython",
    "version": 3
   },
   "file_extension": ".py",
   "mimetype": "text/x-python",
   "name": "python",
   "nbconvert_exporter": "python",
   "pygments_lexer": "ipython3",
   "version": "3.6.3"
  }
 },
 "nbformat": 4,
 "nbformat_minor": 2
}
