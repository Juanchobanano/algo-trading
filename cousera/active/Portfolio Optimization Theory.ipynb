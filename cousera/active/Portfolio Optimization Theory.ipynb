{
 "cells": [
  {
   "cell_type": "markdown",
   "metadata": {},
   "source": [
    "# Portfolio Optimization Theory"
   ]
  },
  {
   "cell_type": "markdown",
   "metadata": {},
   "source": [
    "- If $x_i = -1$, we have a short position of asset $i$\n",
    "- If $x_i = 1$, we have a long position of 1 share of asset $i$"
   ]
  },
  {
   "cell_type": "markdown",
   "metadata": {},
   "source": [
    "The return can be defined as $r = p^T x$, where $x$ are the weights and $p^T$ are the returns of the assets.\n",
    "\n",
    "- Mean of $p$: $\\bar{p}$\n",
    "- Covariance on $p$ = $\\Sigma$"
   ]
  },
  {
   "cell_type": "markdown",
   "metadata": {},
   "source": [
    "The **mean of returns** is defined as: \n",
    "$$\\bar{r} = \\mathbb{E}(r) = \\mathbb{E}(p^Tx) = (\\mathbb{E}(p))^Tx = \\bar{p}^Tx$$"
   ]
  },
  {
   "cell_type": "markdown",
   "metadata": {},
   "source": [
    "The **covariance of returns** is defined as: \n",
    "$$\\begin{aligned}\n",
    "\\delta_{r}^{2} &=\\mathbb{E}\\left((r-\\bar{r})^{2}\\right) \\\\\n",
    "&=\\mathbb{E}\\left(\\left(p^{\\top} x-\\bar{p}^{\\top} x\\right)^{2}\\right) \\\\\n",
    "&=\\mathbb{E}([(p-\\bar{p})^Tx]^2) \\\\\n",
    "&=\\mathbb{E}([(p-\\bar{p})^Tx]^T [(p-\\bar{p})^Tx]) \\\\\n",
    "&=\\mathbb{E}(x^T (p-\\bar{p}) (p - \\bar{p})^T x) \\\\\n",
    "&=x^T\\mathbb{E}((p-\\bar{p}) (p - \\bar{p})^T) x \\\\\n",
    "&=x^T \\Sigma x\n",
    "\\end{aligned}$$"
   ]
  },
  {
   "cell_type": "markdown",
   "metadata": {},
   "source": [
    "Therefore we have: \n",
    "$$\\bar{r} = \\bar{p}^Tx \\quad \\text{(mean of returns)}$$ and $$\\delta_r^2 = x^T \\Sigma x \\quad \\text{(risk of returns)}$$"
   ]
  },
  {
   "cell_type": "markdown",
   "metadata": {},
   "source": [
    "## Markowitz Optimization\n",
    "\n",
    "Minimize risk, subjeto to minimum return , i.e\n",
    "\n",
    "$$\\begin{aligned}\n",
    "\\text{ minimizar }_{x} \\quad & x^T \\Sigma x \\\\\n",
    "\\text{ sujeto a } \\quad & \\bar{p}^Tx \\geq r_{\\text{min}} \\\\\n",
    "& x \\geq 0\n",
    "\\end{aligned}$$"
   ]
  },
  {
   "cell_type": "code",
   "execution_count": null,
   "metadata": {},
   "outputs": [],
   "source": []
  },
  {
   "cell_type": "code",
   "execution_count": null,
   "metadata": {},
   "outputs": [],
   "source": []
  },
  {
   "cell_type": "code",
   "execution_count": null,
   "metadata": {},
   "outputs": [],
   "source": []
  }
 ],
 "metadata": {
  "kernelspec": {
   "display_name": "Python 3",
   "language": "python",
   "name": "python3"
  },
  "language_info": {
   "codemirror_mode": {
    "name": "ipython",
    "version": 3
   },
   "file_extension": ".py",
   "mimetype": "text/x-python",
   "name": "python",
   "nbconvert_exporter": "python",
   "pygments_lexer": "ipython3",
   "version": "3.7.3"
  }
 },
 "nbformat": 4,
 "nbformat_minor": 4
}
