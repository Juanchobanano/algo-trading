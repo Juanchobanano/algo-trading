{
 "cells": [
  {
   "cell_type": "markdown",
   "metadata": {},
   "source": [
    "# Efficient Frontier Part II"
   ]
  },
  {
   "cell_type": "code",
   "execution_count": 25,
   "metadata": {},
   "outputs": [
    {
     "name": "stdout",
     "output_type": "stream",
     "text": [
      "The autoreload extension is already loaded. To reload it, use:\n",
      "  %reload_ext autoreload\n"
     ]
    }
   ],
   "source": [
    "%load_ext autoreload\n",
    "%autoreload 2\n",
    "%matplotlib inline\n",
    "import edhec_risk_kit as erk\n",
    "\n",
    "ind = erk.get_ind_returns()\n",
    "er = erk.annualize_rets(ind[\"1996\": \"2000\"], 12)\n",
    "cov = ind[\"1996\": \"2000\"].cov()"
   ]
  },
  {
   "cell_type": "code",
   "execution_count": 6,
   "metadata": {},
   "outputs": [],
   "source": [
    "def portfolio_return(weights, returns):\n",
    "    \"\"\"\n",
    "    Weights -> Returns\n",
    "    \"\"\"\n",
    "    return weights.T @ returns\n",
    "\n",
    "def portfolio_vol(weights, covmat):\n",
    "    \"\"\"\n",
    "    Weights -> Vol\n",
    "    \"\"\"\n",
    "    return (weights.T @covmat @ weights) ** 0.5"
   ]
  },
  {
   "cell_type": "code",
   "execution_count": 7,
   "metadata": {},
   "outputs": [
    {
     "data": {
      "text/plain": [
       "Food     0.116799\n",
       "Beer     0.141126\n",
       "Smoke    0.107830\n",
       "Coal     0.414689\n",
       "dtype: float64"
      ]
     },
     "execution_count": 7,
     "metadata": {},
     "output_type": "execute_result"
    }
   ],
   "source": [
    "l = [\"Food\", \"Beer\", \"Smoke\", \"Coal\"]\n",
    "er[l]"
   ]
  },
  {
   "cell_type": "code",
   "execution_count": 8,
   "metadata": {},
   "outputs": [
    {
     "data": {
      "text/html": [
       "<div>\n",
       "<style scoped>\n",
       "    .dataframe tbody tr th:only-of-type {\n",
       "        vertical-align: middle;\n",
       "    }\n",
       "\n",
       "    .dataframe tbody tr th {\n",
       "        vertical-align: top;\n",
       "    }\n",
       "\n",
       "    .dataframe thead th {\n",
       "        text-align: right;\n",
       "    }\n",
       "</style>\n",
       "<table border=\"1\" class=\"dataframe\">\n",
       "  <thead>\n",
       "    <tr style=\"text-align: right;\">\n",
       "      <th></th>\n",
       "      <th>Food</th>\n",
       "      <th>Beer</th>\n",
       "      <th>Smoke</th>\n",
       "      <th>Coal</th>\n",
       "    </tr>\n",
       "  </thead>\n",
       "  <tbody>\n",
       "    <tr>\n",
       "      <th>Food</th>\n",
       "      <td>0.002609</td>\n",
       "      <td>0.002379</td>\n",
       "      <td>0.002061</td>\n",
       "      <td>0.000027</td>\n",
       "    </tr>\n",
       "    <tr>\n",
       "      <th>Beer</th>\n",
       "      <td>0.002379</td>\n",
       "      <td>0.005264</td>\n",
       "      <td>0.001359</td>\n",
       "      <td>0.001728</td>\n",
       "    </tr>\n",
       "    <tr>\n",
       "      <th>Smoke</th>\n",
       "      <td>0.002061</td>\n",
       "      <td>0.001359</td>\n",
       "      <td>0.008349</td>\n",
       "      <td>-0.000733</td>\n",
       "    </tr>\n",
       "    <tr>\n",
       "      <th>Coal</th>\n",
       "      <td>0.000027</td>\n",
       "      <td>0.001728</td>\n",
       "      <td>-0.000733</td>\n",
       "      <td>0.018641</td>\n",
       "    </tr>\n",
       "  </tbody>\n",
       "</table>\n",
       "</div>"
      ],
      "text/plain": [
       "           Food      Beer     Smoke      Coal\n",
       "Food   0.002609  0.002379  0.002061  0.000027\n",
       "Beer   0.002379  0.005264  0.001359  0.001728\n",
       "Smoke  0.002061  0.001359  0.008349 -0.000733\n",
       "Coal   0.000027  0.001728 -0.000733  0.018641"
      ]
     },
     "execution_count": 8,
     "metadata": {},
     "output_type": "execute_result"
    }
   ],
   "source": [
    "cov.loc[l, l]"
   ]
  },
  {
   "cell_type": "code",
   "execution_count": 13,
   "metadata": {},
   "outputs": [],
   "source": [
    "import numpy as np\n",
    "weights = np.repeat(1/4, 4)"
   ]
  },
  {
   "cell_type": "code",
   "execution_count": 14,
   "metadata": {},
   "outputs": [
    {
     "data": {
      "text/plain": [
       "array([0.25, 0.25, 0.25, 0.25])"
      ]
     },
     "execution_count": 14,
     "metadata": {},
     "output_type": "execute_result"
    }
   ],
   "source": [
    "weights"
   ]
  },
  {
   "cell_type": "code",
   "execution_count": 15,
   "metadata": {},
   "outputs": [
    {
     "data": {
      "text/plain": [
       "0.19511097196038385"
      ]
     },
     "execution_count": 15,
     "metadata": {},
     "output_type": "execute_result"
    }
   ],
   "source": [
    "erk.portfolio_return(weights, er[l])"
   ]
  },
  {
   "cell_type": "code",
   "execution_count": 17,
   "metadata": {},
   "outputs": [
    {
     "data": {
      "text/plain": [
       "0.055059195776437045"
      ]
     },
     "execution_count": 17,
     "metadata": {},
     "output_type": "execute_result"
    }
   ],
   "source": [
    "erk.portfolio_vol(weights, cov.loc[l, l])"
   ]
  },
  {
   "cell_type": "markdown",
   "metadata": {},
   "source": [
    "### 2 Asset Frontier"
   ]
  },
  {
   "cell_type": "code",
   "execution_count": 18,
   "metadata": {},
   "outputs": [],
   "source": [
    "l = [\"Games\", \"Fin\"]"
   ]
  },
  {
   "cell_type": "code",
   "execution_count": 19,
   "metadata": {},
   "outputs": [
    {
     "data": {
      "text/plain": [
       "[array([0., 1.]),\n",
       " array([0.05263158, 0.94736842]),\n",
       " array([0.10526316, 0.89473684]),\n",
       " array([0.15789474, 0.84210526]),\n",
       " array([0.21052632, 0.78947368]),\n",
       " array([0.26315789, 0.73684211]),\n",
       " array([0.31578947, 0.68421053]),\n",
       " array([0.36842105, 0.63157895]),\n",
       " array([0.42105263, 0.57894737]),\n",
       " array([0.47368421, 0.52631579]),\n",
       " array([0.52631579, 0.47368421]),\n",
       " array([0.57894737, 0.42105263]),\n",
       " array([0.63157895, 0.36842105]),\n",
       " array([0.68421053, 0.31578947]),\n",
       " array([0.73684211, 0.26315789]),\n",
       " array([0.78947368, 0.21052632]),\n",
       " array([0.84210526, 0.15789474]),\n",
       " array([0.89473684, 0.10526316]),\n",
       " array([0.94736842, 0.05263158]),\n",
       " array([1., 0.])]"
      ]
     },
     "execution_count": 19,
     "metadata": {},
     "output_type": "execute_result"
    }
   ],
   "source": [
    "n_points = 20\n",
    "weights = [np.array([w, 1-w]) for w in np.linspace(0, 1, n_points)]\n",
    "weights"
   ]
  },
  {
   "cell_type": "code",
   "execution_count": 24,
   "metadata": {},
   "outputs": [
    {
     "data": {
      "text/plain": [
       "<matplotlib.axes._subplots.AxesSubplot at 0x2d191bff3c8>"
      ]
     },
     "execution_count": 24,
     "metadata": {},
     "output_type": "execute_result"
    },
    {
     "data": {
      "image/png": "[encoded data removed]",
      "text/plain": [
       "<Figure size 432x288 with 1 Axes>"
      ]
     },
     "metadata": {
      "needs_background": "light"
     },
     "output_type": "display_data"
    }
   ],
   "source": [
    "import pandas as pd\n",
    "rets = [erk.portfolio_return(w, er[l]) for w in weights]\n",
    "vols = [erk.portfolio_vol(w, cov.loc[l, l]) for w in weights]\n",
    "ef = pd.DataFrame({\"R\": rets, \"Vol\": vols})\n",
    "ef.plot.scatter(x = \"Vol\", y = \"R\")"
   ]
  },
  {
   "cell_type": "code",
   "execution_count": 35,
   "metadata": {},
   "outputs": [
    {
     "data": {
      "text/plain": [
       "<matplotlib.axes._subplots.AxesSubplot at 0x2d190b42e48>"
      ]
     },
     "execution_count": 35,
     "metadata": {},
     "output_type": "execute_result"
    },
    {
     "data": {
      "image/png": "[encoded data removed]",
      "text/plain": [
       "<Figure size 432x288 with 1 Axes>"
      ]
     },
     "metadata": {
      "needs_background": "light"
     },
     "output_type": "display_data"
    }
   ],
   "source": [
    "l = [\"Fin\", \"Beer\"]\n",
    "erk.plot_ef2(25, er[l], cov.loc[l, l], style = \"*-\")"
   ]
  },
  {
   "cell_type": "code",
   "execution_count": null,
   "metadata": {},
   "outputs": [],
   "source": []
  }
 ],
 "metadata": {
  "kernelspec": {
   "display_name": "Python 3",
   "language": "python",
   "name": "python3"
  },
  "language_info": {
   "codemirror_mode": {
    "name": "ipython",
    "version": 3
   },
   "file_extension": ".py",
   "mimetype": "text/x-python",
   "name": "python",
   "nbconvert_exporter": "python",
   "pygments_lexer": "ipython3",
   "version": "3.7.3"
  }
 },
 "nbformat": 4,
 "nbformat_minor": 4
}
